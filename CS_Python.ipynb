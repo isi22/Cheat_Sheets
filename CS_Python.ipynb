{
 "cells": [
  {
   "cell_type": "markdown",
   "id": "70353599",
   "metadata": {},
   "source": [
    "# Python Cheat Sheet"
   ]
  },
  {
   "cell_type": "markdown",
   "id": "922f4364",
   "metadata": {},
   "source": [
    "## Strings"
   ]
  },
  {
   "cell_type": "code",
   "execution_count": 21,
   "id": "a04c11d6",
   "metadata": {},
   "outputs": [
    {
     "name": "stdout",
     "output_type": "stream",
     "text": [
      "Stripped: 'This is a TEST'\n",
      "Swapcase:    tHIS IS A test\n",
      "Uppercase:    THIS IS A TEST\n",
      "Split: ['', '', '', 'This', 'is', 'a', 'TEST']\n",
      "Character list: [' ', ' ', ' ', 'T', 'h', 'i', 's', ' ', 'i', 's', ' ', 'a', ' ', 'T', 'E', 'S', 'T']\n",
      "Join:    This is a TEST + bag\n",
      "Replace substring:    This is a FROG\n",
      "Change character:    This isFa TEST\n",
      "Is alphanumeric: True\n",
      "Is alphabetic: True\n",
      "Is decimal: False\n",
      "Is lowercase: True\n",
      "Is uppercase: False\n",
      "\n",
      "Wrapped text:\n",
      "This is a very long string\n",
      "that needs to be wrapped.\n",
      "\n",
      "Wrapped text as array:['This is a very long string', 'that needs to be wrapped.']\n",
      "Fifth letter of alphabet: e\n"
     ]
    }
   ],
   "source": [
    "s1 = \"   This is a TEST\"\n",
    "s2 = \"bag\"\n",
    "s3 = \"This is a very long string that needs to be wrapped.\"\n",
    "\n",
    "# Remove whitespace from start and end of string\n",
    "stripped=s1.strip()\n",
    "print(f\"Stripped: '{stripped}'\")\n",
    "\n",
    "# Reverse upper/lower case \n",
    "swapcase = s1.swapcase()\n",
    "print(f\"Swapcase: {swapcase}\")\n",
    "\n",
    "# Convert to uppercase\n",
    "upper = s1.upper()\n",
    "print(f\"Uppercase: {upper}\")\n",
    "\n",
    "# Split by delimiter\n",
    "split = s1.split(\" \")\n",
    "print(f\"Split: {split}\")\n",
    "\n",
    "# Convert string into list of its characters\n",
    "character_list = list(s1)\n",
    "print(f\"Character list: {character_list}\")\n",
    "\n",
    "# Join multiple strings with a delimiter\n",
    "join = \" + \".join([s1, s2])\n",
    "print(f\"Join: {join}\")\n",
    "\n",
    "# Replace substring\n",
    "replace = s1.replace(\"TEST\",\"FROG\")\n",
    "print(f\"Replace substring: {replace}\")\n",
    "\n",
    "# Change letter at specified position in string\n",
    "l=list(s1)\n",
    "l[10]=\"F\"\n",
    "new_string=\"\".join(l)\n",
    "print(f\"Change character: {new_string}\")\n",
    "\n",
    "# String validation methods\n",
    "is_alnum = s2.isalnum() # (a-z, A-Z and 0-9)\n",
    "is_alpha = s2.isalpha() # (a-z, A-Z)\n",
    "is_decimal = s2.isdecimal() # (0-9)\n",
    "is_lower = s2.islower() # (a-z)\n",
    "is_upper = s2.isupper() # (A-Z)\n",
    "print(f\"Is alphanumeric: {is_alnum}\")\n",
    "print(f\"Is alphabetic: {is_alpha}\")\n",
    "print(f\"Is decimal: {is_decimal}\")\n",
    "print(f\"Is lowercase: {is_lower}\")\n",
    "print(f\"Is uppercase: {is_upper}\")\n",
    "\n",
    "# Wrap text \n",
    "import textwrap\n",
    "wrapped_text_string = textwrap.fill(s3,30)\n",
    "wrapped_text_array = textwrap.wrap(s3,30)\n",
    "print(f\"\\nWrapped text:\\n{wrapped_text_string}\\n\")\n",
    "print(f\"Wrapped text as array:{wrapped_text_array}\")\n",
    "\n",
    "# Get character at position in alphabet\n",
    "fifth_letter = chr(ord('a') + 4)\n",
    "print(f\"Fifth letter of alphabet: {fifth_letter}\")"
   ]
  },
  {
   "cell_type": "markdown",
   "id": "605a4655",
   "metadata": {},
   "source": [
    "## Regular Expressions (RegEx)"
   ]
  },
  {
   "cell_type": "code",
   "execution_count": 10,
   "id": "50a4c7ee",
   "metadata": {},
   "outputs": [
    {
     "name": "stdout",
     "output_type": "stream",
     "text": [
      "End of match: 4\n",
      "Start of match: 0\n",
      "Matched string: 1234\n"
     ]
    }
   ],
   "source": [
    "import re\n",
    "\n",
    "# re.search(pattern, string) - search for pattern in string\n",
    "# re.match(pattern, string) - match pattern at start of string\n",
    "\n",
    "# re.split(pattern, string) - split string by pattern\n",
    "\n",
    "m = re.search(r'\\d+','1234abc')\n",
    "print(f\"End of match: {m.end()}\")\n",
    "print(f\"Start of match: {m.start()}\")\n",
    "print(f\"Matched string: {m.group()}\")"
   ]
  },
  {
   "cell_type": "markdown",
   "id": "f9a96cdf",
   "metadata": {},
   "source": [
    "## Lists"
   ]
  },
  {
   "cell_type": "markdown",
   "id": "ecf452ef",
   "metadata": {},
   "source": [
    "### Creating Lists"
   ]
  },
  {
   "cell_type": "code",
   "execution_count": 22,
   "id": "6713b769",
   "metadata": {},
   "outputs": [
    {
     "name": "stdout",
     "output_type": "stream",
     "text": [
      "Empty list: []\n",
      "Directly assigned list: [1, 2]\n",
      "Nested list: [['Harry', 37.21], ['Berry', 37.21], ['Tina', 37.2], ['Akriti', 41], ['Harsh', 39]]\n"
     ]
    }
   ],
   "source": [
    "# Initialize empty list\n",
    "list_empty = list()  # Initializing a list\n",
    "print(f\"Empty list: {list_empty}\")\n",
    "\n",
    "# Directly assigning values to a list\n",
    "list_direct = [1, 2]\n",
    "print(f\"Directly assigned list: {list_direct}\")\n",
    "\n",
    "# Nested lists\n",
    "students = [['Harry', 37.21], ['Berry', 37.21], ['Tina', 37.2], ['Akriti', 41], ['Harsh', 39]]\n",
    "print(f\"Nested list: {students}\")"
   ]
  },
  {
   "cell_type": "markdown",
   "id": "27c99044",
   "metadata": {},
   "source": [
    "### Modifying Lists"
   ]
  },
  {
   "cell_type": "code",
   "execution_count": 23,
   "id": "a6bb2cc6",
   "metadata": {},
   "outputs": [
    {
     "name": "stdout",
     "output_type": "stream",
     "text": [
      "After append: [1, 2, 3, 4, 5, 9]\n",
      "After extend: [1, 2, 3, 4, 5, 9, 10, 11]\n",
      "After insert: [1, 2, 3, 7, 4, 5, 9, 10, 11]\n",
      "After remove: [1, 2, 3, 7, 4, 5, 9, 11]\n",
      "After sort: [1, 2, 3, 4, 5, 7, 9, 11]\n",
      "After reverse: [11, 9, 7, 5, 4, 3, 2, 1]\n"
     ]
    }
   ],
   "source": [
    "arr = [1, 2, 3, 4, 5]\n",
    "\n",
    "# Add single element to end of list\n",
    "arr.append(9)   \n",
    "print(f\"After append: {arr}\")\n",
    "\n",
    "# Extend list by appending elements from iterable\n",
    "arr.extend([10,11])\n",
    "print(f\"After extend: {arr}\")\n",
    "\n",
    "# Insert element at given position\n",
    "arr.insert(3,7) # Insert 7 at index 3\n",
    "print(f\"After insert: {arr}\")\n",
    "\n",
    "# Remove first occurence of value\n",
    "arr.remove(10) \n",
    "print(f\"After remove: {arr}\")\n",
    "\n",
    "# Sort the list\n",
    "arr.sort()\n",
    "print(f\"After sort: {arr}\")\n",
    "\n",
    "# Reverse the list\n",
    "arr.reverse()\n",
    "print(f\"After reverse: {arr}\")\n"
   ]
  },
  {
   "cell_type": "markdown",
   "id": "ae4e397d",
   "metadata": {},
   "source": [
    "### List Operations"
   ]
  },
  {
   "cell_type": "code",
   "execution_count": 24,
   "id": "a24583e9",
   "metadata": {},
   "outputs": [
    {
     "name": "stdout",
     "output_type": "stream",
     "text": [
      "Sum of list: 42\n",
      "Length of list: 8\n",
      "Index of first occurrence of 3: 5\n",
      "Count of 1 in list: 1\n",
      "Popped value: 1, List after pop: [11, 9, 7, 5, 4, 3, 2]\n",
      "Unique and sorted list: [1, 2, 3, 4]\n"
     ]
    }
   ],
   "source": [
    "# Sum of list elements\n",
    "total = sum(arr)\n",
    "print(f\"Sum of list: {total}\")\n",
    "\n",
    "# Length of list\n",
    "length = len(arr)\n",
    "print(f\"Length of list: {length}\")\n",
    "\n",
    "# Get index of first occurence of value\n",
    "index = arr.index(3)\n",
    "print(f\"Index of first occurrence of 3: {index}\")\n",
    "\n",
    "# Count occurences of value\n",
    "count = arr.count(1)\n",
    "print(f\"Count of 1 in list: {count}\")\n",
    "\n",
    "# Remove and return item at given position (default last)\n",
    "popped_value=arr.pop()\n",
    "print(f\"Popped value: {popped_value}, List after pop: {arr}\")\n",
    "\n",
    "# Get unique and sorted values from a list\n",
    "arr = [3,1,4,2,3,4,1]\n",
    "unique_sorted_list = sorted(set(arr))\n",
    "print(f\"Unique and sorted list: {unique_sorted_list}\")"
   ]
  },
  {
   "cell_type": "markdown",
   "id": "9582dc05",
   "metadata": {},
   "source": [
    "### List Comprehensions"
   ]
  },
  {
   "cell_type": "code",
   "execution_count": 25,
   "id": "78dd713b",
   "metadata": {},
   "outputs": [
    {
     "name": "stdout",
     "output_type": "stream",
     "text": [
      "Multiples of 3 below 10: [0, 3, 6, 9]\n",
      "All combinations of i,j,k where i+j+k != 2: [[0, 0, 0], [0, 1, 0], [1, 0, 0], [2, 1, 0]]\n"
     ]
    }
   ],
   "source": [
    "# List comprehension examples\n",
    "l1 = [x for x in range(10) if x % 3 == 0] # Multiples of 3 below 10\n",
    "print(f\"Multiples of 3 below 10: {l1}\")\n",
    "\n",
    "l2 = [[i,j,k] for i in range(0,3) for j in range(0,2) for k in range(0,1) if i + j + k != 2] # All combinations of i,j,k where i+j+k != 2\n",
    "print(f\"All combinations of i,j,k where i+j+k != 2: {l2}\")"
   ]
  },
  {
   "cell_type": "markdown",
   "id": "95117c49",
   "metadata": {},
   "source": [
    "## Sets"
   ]
  },
  {
   "cell_type": "markdown",
   "id": "8f3d78ed",
   "metadata": {},
   "source": [
    "### Creating Sets"
   ]
  },
  {
   "cell_type": "code",
   "execution_count": 26,
   "id": "0177a1db",
   "metadata": {},
   "outputs": [
    {
     "name": "stdout",
     "output_type": "stream",
     "text": [
      "Empty set: set()\n",
      "Directly assigned set: {1, 2}\n",
      "Set from string: {'H', 'R', 'e', 'c', 'n', 'r', 'a', 'k'}\n",
      "Set from list: {0, 1, 2, 3, 4, 5, 6, 9, 12, 22}\n",
      "Set from tuple: {1, 2, 3, 4, 5}\n",
      "Set from dictionary: {'n', 'H', 'r', 'a', 'e', 'c', 'k'}\n",
      "Set from dictionary: {'Rank', 'Hacker'}\n",
      "Set from enumerate: {(5, 'r'), (6, 'r'), (0, 'H'), (1, 'a'), (4, 'e'), (2, 'c'), (9, 'k'), (8, 'n'), (7, 'a'), (3, 'k')}\n"
     ]
    }
   ],
   "source": [
    "# Initialize empty set\n",
    "set_empty = set()  # Initializing a set\n",
    "print(f\"Empty set: {set_empty}\")\n",
    "\n",
    "# Directly assigning values to a set\n",
    "set_direct = {1, 2}\n",
    "print(f\"Directly assigned set: {set_direct}\")\n",
    "\n",
    "# String to set\n",
    "set_string = set('HackerRank')\n",
    "print(f\"Set from string: {set_string}\")\n",
    "\n",
    "# List to set\n",
    "set_list = set([1,2,1,2,3,4,5,6,0,9,12,22,3])\n",
    "print(f\"Set from list: {set_list}\")\n",
    "\n",
    "# Tuple to set\n",
    "set_tuple = set((1,2,3,4,5,5))\n",
    "print(f\"Set from tuple: {set_tuple}\")\n",
    "\n",
    "# Set to set (removes duplicates)\n",
    "set_set = set(set(['H','a','c','k','e','r','r','a','n','k']))\n",
    "print(f\"Set from dictionary: {set_set}\")\n",
    "\n",
    "# Dictionary to set (gets keys only)\n",
    "set_dict = set({'Hacker' : 'DOSHI', 'Rank' : 616 })\n",
    "print(f\"Set from dictionary: {set_dict}\")\n",
    "\n",
    "# Enumerate to set (creates tuples of index, value)\n",
    "set_enumerate = set(enumerate(['H','a','c','k','e','r','r','a','n','k']))\n",
    "print(f\"Set from enumerate: {set_enumerate}\")\n"
   ]
  },
  {
   "cell_type": "markdown",
   "id": "fa5e6a75",
   "metadata": {},
   "source": [
    "### Modifying Sets"
   ]
  },
  {
   "cell_type": "code",
   "execution_count": 27,
   "id": "28fff901",
   "metadata": {},
   "outputs": [
    {
     "name": "stdout",
     "output_type": "stream",
     "text": [
      "Set after character addition: {1, 2, 3, 'H'}\n",
      "Set after tuple addition: {1, 2, 3, 'H', (4, 'a')}\n",
      "Set after update: {1, 2, 3, 'H', 5, 'b', (4, 'a')}\n",
      "Set after remove: {1, 3, 'H', 5, 'b', (4, 'a')}\n",
      "Set after discard: {1, 3, 'H', 5, (4, 'a')}\n",
      "Popped element: 1, Set after pop: {3, 'H', 5, (4, 'a')}\n"
     ]
    }
   ],
   "source": [
    "set1 = set([1,2,3])\n",
    "\n",
    "# Add element to set\n",
    "set1.add('H')\n",
    "print(f\"Set after character addition: {set1}\")\n",
    "\n",
    "set1.add((4, 'a'))\n",
    "print(f\"Set after tuple addition: {set1}\")\n",
    "\n",
    "# Add multiple elements to set\n",
    "# update() only works for iterable objects\n",
    "set1.update([5, 'b'])\n",
    "print(f\"Set after update: {set1}\")\n",
    "\n",
    "# Remove specified element from set\n",
    "set1.remove(2)  # Raises KeyError if element not found\n",
    "print(f\"Set after remove: {set1}\")\n",
    "\n",
    "set1.discard('b')  # Does not raise error if element not found\n",
    "print(f\"Set after discard: {set1}\")\n",
    "\n",
    "# Remove and return an arbitrary element from the set\n",
    "arbitrary_element = set1.pop()\n",
    "print(f\"Popped element: {arbitrary_element}, Set after pop: {set1}\")"
   ]
  },
  {
   "cell_type": "markdown",
   "id": "b400362e",
   "metadata": {},
   "source": [
    "### Set Operations"
   ]
  },
  {
   "cell_type": "code",
   "execution_count": 28,
   "id": "c7016d19",
   "metadata": {},
   "outputs": [
    {
     "name": "stdout",
     "output_type": "stream",
     "text": [
      "Sum of set 1: 6\n",
      "Length of set1: 3\n",
      "Union of set1 and set2: {1, 2, 3, 4, 5}\n",
      "Intersection of set1 and set2: {3, 4, 5}\n",
      "Difference of set1 and set2: set()\n",
      "Symmetric difference of set1 and set2: {3, 4, 5}\n"
     ]
    }
   ],
   "source": [
    "set1 = set([1,2,3])\n",
    "set2 = set([3,4,5])\n",
    "\n",
    "# Sum of set elements\n",
    "total = sum(set1)\n",
    "print(f\"Sum of set 1: {total}\")\n",
    "\n",
    "# Length of set\n",
    "length = len(set1)\n",
    "print(f\"Length of set1: {length}\")\n",
    "\n",
    "# Union\n",
    "union = set1.union(set2) # Values which exist in set1 OR set2, output is a new set\n",
    "set1.update(set2) # Updates set1 with elements from set2\n",
    "print(f\"Union of set1 and set2: {union}\")\n",
    "\n",
    "# Intersection\n",
    "intersection = set1.intersection(set2) # Values which exist in set1 AND set2, output is a new set\n",
    "set1.intersection_update(set2) # Updates set1 with elements from the intersection\n",
    "print(f\"Intersection of set1 and set2: {intersection}\")\n",
    "\n",
    "# Difference\n",
    "difference = set1.difference(set2) # Values which exist in a but NOT in b, output is a new set\n",
    "set1.difference_update(set2) # Updates set1 with elements from the difference\n",
    "print(f\"Difference of set1 and set2: {difference}\")  \n",
    "\n",
    "# Symmetric Difference\n",
    "symm_difference = set1.symmetric_difference(set2) # Values which exist in a but NOT in b, output is a new set\n",
    "set1.symmetric_difference_update(set2) # Updates set1 with elements from the symmetric difference\n",
    "print(f\"Symmetric difference of set1 and set2: {symm_difference}\") # Values which exist in a OR B but not both\n"
   ]
  },
  {
   "cell_type": "markdown",
   "id": "41021fdc",
   "metadata": {},
   "source": [
    "## Tuples\n",
    "\n",
    "Tuples are data structures that look a lot like lists. Unlike lists, tuples are immutable (meaning that they cannot be modified once created). This restricts their use because we cannot add, remove, or assign values. \n",
    "\n",
    "However, they are useful for unchanging data to ensure that they are not changed accidentally. Additionally, unlike lists, tuples can be used as keys in a dictionary, e.g.:\n",
    "\n",
    "```python\n",
    "\n",
    "location_data = {\n",
    "    (51.5072, 0.1276): \"London\",\n",
    "    (40.7128, -74.0060): \"New York\"\n",
    "}\n",
    "\n",
    "```"
   ]
  },
  {
   "cell_type": "markdown",
   "id": "1da3a9d6",
   "metadata": {},
   "source": [
    "## Creating Tuples"
   ]
  },
  {
   "cell_type": "code",
   "execution_count": 29,
   "id": "3d815d9f",
   "metadata": {},
   "outputs": [
    {
     "name": "stdout",
     "output_type": "stream",
     "text": [
      "Tuple from list: (5, 8, 7, 9)\n",
      "After swapping: a=10, b=5\n"
     ]
    }
   ],
   "source": [
    "# List to tuple\n",
    "t = tuple([5, 8, 7, 9])\n",
    "print(f\"Tuple from list: {t}\")\n",
    "\n",
    "a=5\n",
    "b=10\n",
    "\n",
    "# A common tuple use is the swapping of  numbers:\n",
    "a, b = b, a\n",
    "print(f\"After swapping: a={a}, b={b}\")"
   ]
  },
  {
   "cell_type": "markdown",
   "id": "d3972fcb",
   "metadata": {},
   "source": [
    "## Numpy"
   ]
  },
  {
   "cell_type": "code",
   "execution_count": 35,
   "id": "06f09eca",
   "metadata": {},
   "outputs": [
    {
     "name": "stdout",
     "output_type": "stream",
     "text": [
      "Array with default dtype (int): [1 2 3 4 5 6]\n",
      "Array with float dtype: [1. 2. 3.]\n",
      "Shape of array: (6,)\n",
      "Reshaped array (3,2):\n",
      "[[1 2]\n",
      " [3 4]\n",
      " [5 6]]\n",
      "Transposed array:\n",
      "[[1 3 5]\n",
      " [2 4 6]]\n",
      "Flattened array: [1 3 5 2 4 6]\n",
      "Array 1: [1 2 3], Array 2: [4 5 6], Concatenated array: [1 2 3 4 5 6]\n",
      "Array of zeros (2,3):\n",
      "[[0. 0. 0.]\n",
      " [0. 0. 0.]]\n",
      "Array of ones (3,2):\n",
      "[[1. 1.]\n",
      " [1. 1.]\n",
      " [1. 1.]]\n",
      "Identity matrix (3x3):\n",
      "[[1. 0. 0.]\n",
      " [0. 1. 0.]\n",
      " [0. 0. 1.]]\n",
      "Eye matrix (3x4) with k=1:\n",
      "[[0. 1. 0. 0.]\n",
      " [0. 0. 1. 0.]\n",
      " [0. 0. 0. 1.]]\n",
      "Original array: [1.2 2.5 3.7]\n",
      "Floor: [1. 2. 3.]\n",
      "Ceil: [2. 3. 4.]\n",
      "Round: [1. 2. 4.]\n",
      "Rint: [1. 2. 4.]\n",
      "Array:\n",
      "[[1 2 3]\n",
      " [4 5 6]]\n",
      "Min: 1\n",
      "Max: 6\n",
      "Sum: 21\n",
      "Product: 720\n",
      "Mean: 3.5\n",
      "Standard Deviation: 1.707825127659933\n",
      "Variance: 2.9166666666666665\n"
     ]
    }
   ],
   "source": [
    "import numpy as np\n",
    "\n",
    "# --- Numpy Arrays ---\n",
    "\n",
    "# Initialize numpy arrays with different data types\n",
    "arr = np.array([1, 2, 3, 4, 5, 6])\n",
    "print(f\"Array with default dtype (int): {arr}\")\n",
    "arr_float = np.array([1, 2, 3], float)\n",
    "print(f\"Array with float dtype: {arr_float}\")\n",
    "\n",
    "# Get shape of array\n",
    "print(f\"Shape of array: {arr.shape}\")\n",
    "\n",
    "# Reshape array\n",
    "arr = arr.reshape((3,2))\n",
    "arr.shape = (3,2)  # Alternative way to reshape\n",
    "print(f\"Reshaped array (3,2):\\n{arr}\")\n",
    "\n",
    "# Transpose array\n",
    "arr = arr.transpose()\n",
    "print(f\"Transposed array:\\n{arr}\")\n",
    "\n",
    "# Flatten array\n",
    "arr = arr.flatten()\n",
    "print(f\"Flattened array: {arr}\")\n",
    "\n",
    "# Concatenate arrays\n",
    "arr1 = np.array([1, 2, 3])\n",
    "arr2 = np.array([4, 5, 6])\n",
    "arr_concat = np.concatenate((arr1, arr2))\n",
    "print(f\"Array 1: {arr1}, Array 2: {arr2}, Concatenated array: {arr_concat}\")\n",
    "\n",
    "# Zeros and Ones\n",
    "zeros_array = np.zeros((2,3))\n",
    "print(f\"Array of zeros (2,3):\\n{zeros_array}\")\n",
    "ones_array = np.ones((3,2))\n",
    "print(f\"Array of ones (3,2):\\n{ones_array}\")\n",
    "\n",
    "# Identity matrix\n",
    "identity_matrix = np.eye(3)\n",
    "print(f\"Identity matrix (3x3):\\n{identity_matrix}\")\n",
    "\n",
    "# Eye matrix\n",
    "eye_matrix = np.eye(3, 4, k=1)  # 3 rows, 4 columns, diagonal offset by 1\n",
    "print(f\"Eye matrix (3x4) with k=1:\\n{eye_matrix}\")\n",
    "\n",
    "# Floor, ceil, round, rint\n",
    "arr = np.array([1.2, 2.5, 3.7])\n",
    "print(f\"Original array: {arr}\")\n",
    "print(f\"Floor: {np.floor(arr)}\")\n",
    "print(f\"Ceil: {np.ceil(arr)}\")\n",
    "print(f\"Round: {np.round(arr)}\") # Round to nearest integer\n",
    "print(f\"Rint: {np.rint(arr)}\") # Round to nearest integer, but returns float\n",
    "\n",
    "# min, max, sum, prod, mean, std, var\n",
    "arr = np.array([[1, 2, 3], [4, 5, 6]])\n",
    "print(f\"Array:\\n{arr}\")\n",
    "print(f\"Min: {np.min(arr)}\")\n",
    "print(f\"Max: {np.max(arr)}\")\n",
    "print(f\"Sum: {np.sum(arr)}\")\n",
    "print(f\"Product: {np.prod(arr)}\")\n",
    "print(f\"Mean: {np.mean(arr)}\")\n",
    "print(f\"Standard Deviation: {np.std(arr)}\")\n",
    "print(f\"Variance: {np.var(arr)}\")\n"
   ]
  },
  {
   "cell_type": "markdown",
   "id": "a2218a6a",
   "metadata": {},
   "source": [
    "## Print"
   ]
  },
  {
   "cell_type": "code",
   "execution_count": 30,
   "id": "a9b939cb",
   "metadata": {},
   "outputs": [
    {
     "name": "stdout",
     "output_type": "stream",
     "text": [
      "Value of x to 2 decimal places is 2.19 and string is test.\n",
      "********test********\n",
      "test****************\n",
      "****************test\n"
     ]
    }
   ],
   "source": [
    "x = 2.1894023\n",
    "s = \"test\"\n",
    "\n",
    "# Print text with variable substitution\n",
    "print(f\"Value of x to 2 decimal places is {x:.2f} and string is {s}.\")\n",
    "\n",
    "# Text alignment\n",
    "width = 20\n",
    "print(s.center(width, \"*\"))\n",
    "print(s.ljust(width, \"*\"))\n",
    "print(s.rjust(width, \"*\"))"
   ]
  },
  {
   "cell_type": "markdown",
   "id": "a69d9b13",
   "metadata": {},
   "source": [
    "## Itertools"
   ]
  },
  {
   "cell_type": "code",
   "execution_count": 31,
   "id": "873087a4",
   "metadata": {},
   "outputs": [
    {
     "name": "stdout",
     "output_type": "stream",
     "text": [
      "Cartesian product with repeat=2: [(1, 1), (1, 2), (1, 3), (2, 1), (2, 2), (2, 3), (3, 1), (3, 2), (3, 3)]\n",
      "Cartesian product of [1,2,3] and [3,4]: [(1, 3), (1, 4), (2, 3), (2, 4), (3, 3), (3, 4)]\n",
      "Cartesian product of lists in A ([[1, 2, 3], [3, 4, 5]]): [(1, 3), (1, 4), (1, 5), (2, 3), (2, 4), (2, 5), (3, 3), (3, 4), (3, 5)]\n",
      "\n",
      "Permutations of [1,2,3] with length 2: [(1, 2), (1, 3), (2, 1), (2, 3), (3, 1), (3, 2)]\n",
      "Permutations of [1,2,3] with length 3: [(1, 2, 3), (1, 3, 2), (2, 1, 3), (2, 3, 1), (3, 1, 2), (3, 2, 1)]\n",
      "Permutations of string 'abc' with length 2: [('a', 'b'), ('a', 'c'), ('b', 'a'), ('b', 'c'), ('c', 'a'), ('c', 'b')]\n",
      "\n",
      "Combinations of [1,2,3] with length 2: [(1, 2), (1, 3), (2, 3)]\n",
      "Combinations of [1,2,3] with length 3: [(1, 2, 3)]\n",
      "Combinations of string 'abc' with length 2: [('a', 'b'), ('a', 'c'), ('b', 'c')]\n",
      "\n",
      "Combinations with replacement of [1,2,3] with length 2: [(1, 1), (1, 2), (1, 3), (2, 2), (2, 3), (3, 3)]\n",
      "Combinations with replacement of [1,2,3] with length 3: [(1, 1, 1), (1, 1, 2), (1, 1, 3), (1, 2, 2), (1, 2, 3), (1, 3, 3), (2, 2, 2), (2, 2, 3), (2, 3, 3), (3, 3, 3)]\n",
      "Combinations with replacement of string 'abc' with length 2: [('a', 'a'), ('a', 'b'), ('a', 'c'), ('b', 'b'), ('b', 'c'), ('c', 'c')]\n",
      "\n",
      "Groupby of 'aaabbbccdaa': {'a': ['a', 'a'], 'b': ['b', 'b', 'b'], 'c': ['c', 'c'], 'd': ['d']}\n"
     ]
    }
   ],
   "source": [
    "import itertools\n",
    "\n",
    "# Cartesian product\n",
    "cartesian_product = list(itertools.product([1,2,3],repeat = 2))\n",
    "print(f\"Cartesian product with repeat=2: {cartesian_product}\")\n",
    "cartesian_product = list(itertools.product([1,2,3],[3,4]))\n",
    "print(f\"Cartesian product of [1,2,3] and [3,4]: {cartesian_product}\")\n",
    "A = [[1,2,3],[3,4,5]]\n",
    "cartesian_productlist = list(itertools.product(*A))\n",
    "print(f\"Cartesian product of lists in A ({A}): {cartesian_productlist}\")\n",
    "\n",
    "# Permutations\n",
    "permutations = list(itertools.permutations([1,2,3],2))\n",
    "print(f\"\\nPermutations of [1,2,3] with length 2: {permutations}\")\n",
    "permutations = list(itertools.permutations([1,2,3]))\n",
    "print(f\"Permutations of [1,2,3] with length 3: {permutations}\")\n",
    "permutations = list(itertools.permutations('abc',2))\n",
    "print(f\"Permutations of string 'abc' with length 2: {permutations}\")\n",
    "\n",
    "# Combinations\n",
    "combinations = list(itertools.combinations([1,2,3],2))\n",
    "print(f\"\\nCombinations of [1,2,3] with length 2: {combinations}\")\n",
    "combinations = list(itertools.combinations([1,2,3],3))\n",
    "print(f\"Combinations of [1,2,3] with length 3: {combinations}\")\n",
    "combinations = list(itertools.combinations('abc',2))\n",
    "print(f\"Combinations of string 'abc' with length 2: {combinations}\")\n",
    "\n",
    "# Combinations with replacement\n",
    "combinations_with_replacement = list(itertools.combinations_with_replacement([1,2,3],2))\n",
    "print(f\"\\nCombinations with replacement of [1,2,3] with length 2: {combinations_with_replacement}\")\n",
    "combinations_with_replacement = list(itertools.combinations_with_replacement([1,2,3],3))\n",
    "print(f\"Combinations with replacement of [1,2,3] with length 3: {combinations_with_replacement}\")\n",
    "combinations_with_replacement = list(itertools.combinations_with_replacement('abc',2))\n",
    "print(f\"Combinations with replacement of string 'abc' with length 2: {combinations_with_replacement}\")\n",
    "\n",
    "# Groupby\n",
    "groupby = {k: list(v) for k, v in itertools.groupby('aaabbbccdaa')}\n",
    "print(f\"\\nGroupby of 'aaabbbccdaa': {groupby}\")\n",
    "\n",
    "\n"
   ]
  },
  {
   "cell_type": "markdown",
   "id": "da17661b",
   "metadata": {},
   "source": [
    "## Collections"
   ]
  },
  {
   "cell_type": "code",
   "execution_count": 32,
   "id": "a2c151bc",
   "metadata": {},
   "outputs": [
    {
     "name": "stdout",
     "output_type": "stream",
     "text": [
      "Element counts: Counter({'a': 3, 'b': 3, 'c': 1, 'd': 1})\n",
      "Keys: ['a', 'b', 'c', 'd']\n",
      "Values: [3, 3, 1, 1]\n",
      "Items: dict_items([('a', 3), ('b', 3), ('c', 1), ('d', 1)])\n",
      "Elements: ['a', 'a', 'a', 'b', 'b', 'b', 'c', 'd']\n",
      "Most common 2 elements: [('a', 3), ('b', 3)]\n",
      "\n",
      "DefaultDict: [('a', [1]), ('b', [2])]\n",
      "Accessing existing key 'a': [1]\n",
      "Accessing non-existing key 'c': []\n",
      "Dot product of p1 and p2: 29\n",
      "Car make: Toyota, model: Camry, year: 2020\n",
      "\n",
      "OrderedDict: OrderedDict({'a': 1, 'b': 2, 'c': 3})\n",
      "\n",
      "Deque after appends: deque([0, 1, [2, 3, 4]])\n",
      "Deque after extends: deque([-1, -2, 0, 1, [2, 3, 4], 5, 6, 7])\n",
      "Popped value from right: 7\n",
      "Popped value from left: -1\n",
      "Deque after pops: deque([-2, 0, 1, [2, 3, 4], 5, 6])\n",
      "Deque after removing 5: deque([-2, 0, 1, [2, 3, 4], 6])\n",
      "Deque after reverse: deque([6, [2, 3, 4], 1, 0, -2])\n",
      "Deque after rotating right by 2: deque([0, -2, 6, [2, 3, 4], 1])\n",
      "Deque after rotating left by 3: deque([[2, 3, 4], 1, 0, -2, 6])\n",
      "Count of 2 in deque: 0\n",
      "Deque after clear: deque([])\n"
     ]
    }
   ],
   "source": [
    "# Collections\n",
    "from collections import Counter, defaultdict, namedtuple, OrderedDict, deque\n",
    "\n",
    "# Counter - counts the occurences of elements in an iterable\n",
    "count = Counter(['a','b','c','a','b','b','d','a'])\n",
    "keys = count.keys()\n",
    "values = count.values()\n",
    "items = count.items()\n",
    "elements = count.elements()\n",
    "most_common = count.most_common(2)\n",
    "print(f\"Element counts: {count}\")\n",
    "print(f\"Keys: {list(keys)}\")\n",
    "print(f\"Values: {list(values)}\")\n",
    "print(f\"Items: {items}\")\n",
    "print(f\"Elements: {list(elements)}\")\n",
    "print(f\"Most common 2 elements: {most_common}\")\n",
    "\n",
    "# DefaultDict - dictionary with default value for nonexistent keys (normal dict does not allow this)\n",
    "dd = defaultdict(list) # Default value is an empty list\n",
    "dd['a'].append(1)\n",
    "dd['b'].append(2)\n",
    "print(f\"\\nDefaultDict: {[item for item in dd.items()]}\")\n",
    "print(f\"Accessing existing key 'a': {dd['a']}\")\n",
    "print(f\"Accessing non-existing key 'c': {dd['c']}\")\n",
    "\n",
    "# NamedTuple - lightweight object type similar to a struct with named fields\n",
    "Point = namedtuple('Point', ['x', 'y'])\n",
    "p1 = Point(2,3)\n",
    "p2 = Point(x=5, y=7)\n",
    "dot_product = p1.x * p2.y + p1.y * p2.x\n",
    "print(f\"Dot product of p1 and p2: {dot_product}\")\n",
    "Car = namedtuple('Car', ['make', 'model', 'year'])\n",
    "car1 = Car('Toyota', 'Camry', 2020)\n",
    "print(f\"Car make: {car1.make}, model: {car1.model}, year: {car1.year}\")\n",
    "\n",
    "# OrderedDict - dictionary that maintains insertion order (normal dict maintains insertion order as of Python 3.7+)\n",
    "od = OrderedDict()\n",
    "od['a'] = 1\n",
    "od['b'] = 2\n",
    "od['c'] = 3\n",
    "print(f\"\\nOrderedDict: {od}\")\n",
    "\n",
    "# deque - double-ended queue for efficient appends and pops from both ends\n",
    "dq = deque()\n",
    "dq.append(1) # Append right \n",
    "dq.append([2,3,4]) # Append right as single element (a list)\n",
    "dq.appendleft(0) # Append left\n",
    "print(f\"\\nDeque after appends: {dq}\")\n",
    "dq.extend([5,6,7]) # Extend right (from iterable)\n",
    "dq.extendleft([-2,-1]) # Extend left (note: order is reversed)\n",
    "print(f\"Deque after extends: {dq}\")\n",
    "pop=dq.pop() # Pop right\n",
    "print(f\"Popped value from right: {pop}\")\n",
    "pop_left=dq.popleft() # Pop left\n",
    "print(f\"Popped value from left: {pop_left}\")\n",
    "print(f\"Deque after pops: {dq}\")\n",
    "dq.remove(5) # Remove first occurrence of value\n",
    "print(f\"Deque after removing 5: {dq}\")\n",
    "dq.reverse() # Reverse the deque\n",
    "print(f\"Deque after reverse: {dq}\")\n",
    "dq.rotate(2) # Rotate right by 2\n",
    "print(f\"Deque after rotating right by 2: {dq}\")\n",
    "dq.rotate(-3) # Rotate left by 3\n",
    "print(f\"Deque after rotating left by 3: {dq}\")\n",
    "count = dq.count(2) # Count occurrences of value\n",
    "print(f\"Count of 2 in deque: {count}\")\n",
    "dq.clear() # Clear the deque\n",
    "print(f\"Deque after clear: {dq}\")"
   ]
  },
  {
   "cell_type": "markdown",
   "id": "29be1b63",
   "metadata": {},
   "source": [
    "## Date and Time"
   ]
  },
  {
   "cell_type": "code",
   "execution_count": 33,
   "id": "4892ade8",
   "metadata": {},
   "outputs": [
    {
     "name": "stdout",
     "output_type": "stream",
     "text": [
      "Weekday of 15th June 2024: Saturday\n",
      "Absolute difference between dates in seconds: 90000\n"
     ]
    }
   ],
   "source": [
    "import calendar\n",
    "from datetime import datetime\n",
    "\n",
    "# Get weekday of a specific date\n",
    "weekday = calendar.weekday(2024, 6, 15)  # Year, Month, Day\n",
    "day_names = list(calendar.day_name)\n",
    "print(f\"Weekday of 15th June 2024: {day_names[weekday]}\")\n",
    "\n",
    "# Date and Time\n",
    "\n",
    "# Absolute difference between two dates in seconds\n",
    "date1 = \"Sun 10 May 2015 13:54:36 -0700\"\n",
    "date2 = \"Mon 11 May 2015 14:54:36 -0700\"\n",
    "fmt = \"%a %d %b %Y %H:%M:%S %z\"\n",
    "d1 = datetime.strptime(date1, fmt)\n",
    "d2 = datetime.strptime(date2, fmt)\n",
    "delta = d2 - d1\n",
    "print(f\"Absolute difference between dates in seconds: {abs(int(delta.total_seconds()))}\")"
   ]
  },
  {
   "cell_type": "markdown",
   "id": "c6cb31fe",
   "metadata": {},
   "source": [
    "## Inbuilt math"
   ]
  },
  {
   "cell_type": "code",
   "execution_count": 34,
   "id": "489e9e09",
   "metadata": {},
   "outputs": [
    {
     "name": "stdout",
     "output_type": "stream",
     "text": [
      "divmod(7,3): (2, 1)\n",
      "2**3: 8\n",
      "pow(2,3): 8\n",
      "pow(2,3,3): 2\n"
     ]
    }
   ],
   "source": [
    "# Inbuilt math\n",
    "\n",
    "# divmod\n",
    "print(f\"divmod(7,3): {divmod(7,3)}\")  # Outputs (2,1)\n",
    "\n",
    "# power\n",
    "print(f\"2**3: {2**3}\") # 2 to the power of 3\n",
    "print(f\"pow(2,3): {pow(2,3)}\")  # 2 to the power of 3\n",
    "print(f\"pow(2,3,3): {pow(2,3,3)}\")  # 2 to the power of 3 mod 3"
   ]
  },
  {
   "cell_type": "markdown",
   "id": "3158068d",
   "metadata": {},
   "source": [
    "## math and cmath"
   ]
  },
  {
   "cell_type": "code",
   "execution_count": 35,
   "id": "16fb6640",
   "metadata": {},
   "outputs": [
    {
     "name": "stdout",
     "output_type": "stream",
     "text": [
      "Polar coordinates of (1+2j): r=2.23606797749979, theta=1.1071487177940904\n",
      "Tangent of 45 degrees: 0.9999999999999999\n"
     ]
    }
   ],
   "source": [
    "import math, cmath\n",
    "\n",
    "# Polar coordinates\n",
    "z = 1 + 2j\n",
    "r, theta = cmath.polar(z)\n",
    "r = abs(z)\n",
    "theta = cmath.phase(z)\n",
    "print(f\"Polar coordinates of {z}: r={r}, theta={theta}\")\n",
    "\n",
    "# Angles\n",
    "tan = math.tan(math.radians(45))\n",
    "print(f\"Tangent of 45 degrees: {tan}\")"
   ]
  },
  {
   "cell_type": "markdown",
   "id": "08220699",
   "metadata": {},
   "source": [
    "## Exceptions"
   ]
  },
  {
   "cell_type": "code",
   "execution_count": 36,
   "id": "981537b5",
   "metadata": {},
   "outputs": [
    {
     "name": "stdout",
     "output_type": "stream",
     "text": [
      "Error: division by zero\n",
      "Error: invalid literal for int() with base 10: 'abc'\n",
      "Error: unterminated character set at position 0\n"
     ]
    }
   ],
   "source": [
    "# Zero division handling\n",
    "try:\n",
    "    result = 5 / 0\n",
    "except ZeroDivisionError as e:\n",
    "    print(f\"Error: {e}\")\n",
    "\n",
    "# Value error handling\n",
    "try:\n",
    "    num = int(\"abc\")\n",
    "except ValueError as e:\n",
    "    print(f\"Error: {e}\")\n",
    "\n",
    "# Regex error handling\n",
    "import re\n",
    "try:\n",
    "    pattern = re.compile(\"[A-\")\n",
    "except re.error as e:\n",
    "    print(f\"Error: {e}\")"
   ]
  },
  {
   "cell_type": "markdown",
   "id": "5460956e",
   "metadata": {},
   "source": [
    "## Built-Ins"
   ]
  },
  {
   "cell_type": "code",
   "execution_count": 37,
   "id": "11d5302e",
   "metadata": {},
   "outputs": [
    {
     "name": "stdout",
     "output_type": "stream",
     "text": [
      "Zipped list: [(1, 'a'), (2, 'b'), (3, 'c')]\n",
      "Result of eval('x * 2 + 5'): 25\n",
      "You entered: \n",
      "Any True in list: True\n",
      "All True in list: False\n",
      "Sorted items: [('banana', 3), ('date', 3), ('apple', 2), ('cherry', 1)]\n"
     ]
    }
   ],
   "source": [
    "# zip([iterable1], [iterable2], ... )\n",
    "# Combines multiple iterables into tuples, if the iterables are of unequal length, it stops at the shortest one\n",
    "list1 = [1, 2, 3]\n",
    "list2 = ['a', 'b', 'c', 'd']\n",
    "zipped = list(zip(list1, list2))\n",
    "print(f\"Zipped list: {zipped}\")\n",
    "\n",
    "# eval\n",
    "x = 10\n",
    "expression = \"x * 2 + 5\"\n",
    "result = eval(expression)\n",
    "print(f\"Result of eval('{expression}'): {result}\")\n",
    "\n",
    "# input\n",
    "user_input = input(\"Enter something: \")\n",
    "print(f\"You entered: {user_input}\")\n",
    "\n",
    "# any() and all()\n",
    "bool_list = [True, True, False]\n",
    "any_result = any(bool_list)  # True if any element is True\n",
    "all_result = all(bool_list)  # True if all elements are True\n",
    "print(f\"Any True in list: {any_result}\")\n",
    "print(f\"All True in list: {all_result}\")\n",
    "\n",
    "# sorted()\n",
    "all_items = [('apple', 2), ('banana', 3), ('cherry', 1), ('date', 3)]\n",
    "sorted_items = sorted(all_items, key=lambda x: (-x[1], x[0]))  # Sort by second item descending, then first item ascending\n",
    "print(f\"Sorted items: {sorted_items}\")"
   ]
  },
  {
   "cell_type": "markdown",
   "id": "a1d28cd0",
   "metadata": {},
   "source": [
    "## Functionals"
   ]
  },
  {
   "cell_type": "code",
   "execution_count": 38,
   "id": "734cb200",
   "metadata": {},
   "outputs": [
    {
     "name": "stdout",
     "output_type": "stream",
     "text": [
      "Double of 5 using lambda: 10\n",
      "Squared numbers using map: [1, 4, 9, 16, 25]\n",
      "Product of numbers using reduce: 120\n"
     ]
    }
   ],
   "source": [
    "# Functionals\n",
    "\n",
    "#lambda function - single line anonymous function\n",
    "double = lambda x: x * 2\n",
    "print(f\"Double of 5 using lambda: {double(5)}\")\n",
    "\n",
    "# map(function, iterable)\n",
    "numbers = [1, 2, 3, 4, 5]\n",
    "squared = list(map(lambda x: x**2, numbers))\n",
    "print(f\"Squared numbers using map: {squared}\")\n",
    "\n",
    "# reduce(function, iterable)\n",
    "from functools import reduce\n",
    "product = reduce(lambda x, y: x * y, numbers)\n",
    "print(f\"Product of numbers using reduce: {product}\")    "
   ]
  },
  {
   "cell_type": "markdown",
   "id": "de39c5c1",
   "metadata": {},
   "source": [
    "## Classes"
   ]
  },
  {
   "cell_type": "code",
   "execution_count": 39,
   "id": "cf6364a9",
   "metadata": {},
   "outputs": [],
   "source": [
    "# Classes\n",
    "# built-in methods\n",
    "class Sample:\n",
    "    def __init__(self, value):\n",
    "        self.value = value\n",
    "\n",
    "    def __add__(self, other): # Overloading the + operator\n",
    "        return Sample(self.value + other.value)\n",
    "    def __sub__(self, other): # Overloading the - operator\n",
    "        return Sample(self.value - other.value)\n",
    "    def __mul__(self, other): # Overloading the * operator\n",
    "        return Sample(self.value * other.value)\n",
    "    def __truediv__(self, other): # Overloading the / operator\n",
    "        return Sample(self.value / other.value)\n",
    "    def __str__(self): # String representation, overloading str()\n",
    "        return f\"Sample({self.value})\"\n"
   ]
  },
  {
   "cell_type": "markdown",
   "id": "f8de7b99",
   "metadata": {},
   "source": [
    "## Other"
   ]
  },
  {
   "cell_type": "code",
   "execution_count": 40,
   "id": "5c4b9388",
   "metadata": {},
   "outputs": [
    {
     "name": "stdout",
     "output_type": "stream",
     "text": [
      "1\n",
      "3\n",
      "1\n",
      "25\n"
     ]
    },
    {
     "ename": "NameError",
     "evalue": "name 'command' is not defined",
     "output_type": "error",
     "traceback": [
      "\u001b[31m---------------------------------------------------------------------------\u001b[39m",
      "\u001b[31mNameError\u001b[39m                                 Traceback (most recent call last)",
      "\u001b[36mCell\u001b[39m\u001b[36m \u001b[39m\u001b[32mIn[40]\u001b[39m\u001b[32m, line 19\u001b[39m\n\u001b[32m     16\u001b[39m \u001b[38;5;28mprint\u001b[39m(\u001b[32m5\u001b[39m**\u001b[32m2\u001b[39m) \u001b[38;5;66;03m# Outputs 25\u001b[39;00m\n\u001b[32m     18\u001b[39m \u001b[38;5;66;03m# getattr() function\u001b[39;00m\n\u001b[32m---> \u001b[39m\u001b[32m19\u001b[39m \u001b[38;5;28mgetattr\u001b[39m(A, \u001b[43mcommand\u001b[49m[\u001b[32m0\u001b[39m])(B)\n",
      "\u001b[31mNameError\u001b[39m: name 'command' is not defined"
     ]
    }
   ],
   "source": [
    "#mapping\n",
    "# n, m = map(int,input().split())\n",
    "# array = list(map(int, input().split()))\n",
    "# A = set(map(int, input().split()))\n",
    "# B = set(map(int, input().split()))\n",
    "\n",
    "#modulo operator\n",
    "#gives you the remainder left over after a division\n",
    "print(7 % 3)  # Outputs 1\n",
    "print(3 % 7)  # Outputs 3\n",
    "\n",
    "# floor division - rounds down to the nearest whole number\n",
    "print(7//4) # Outputs 1\n",
    "\n",
    "# exponentiation\n",
    "print(5**2) # Outputs 25\n",
    "\n",
    "# getattr() function\n",
    "getattr(A, command[0])(B)"
   ]
  }
 ],
 "metadata": {
  "kernelspec": {
   "display_name": "jupyter-lab-kernel",
   "language": "python",
   "name": "jupyter-lab-kernel"
  },
  "language_info": {
   "codemirror_mode": {
    "name": "ipython",
    "version": 3
   },
   "file_extension": ".py",
   "mimetype": "text/x-python",
   "name": "python",
   "nbconvert_exporter": "python",
   "pygments_lexer": "ipython3",
   "version": "3.12.5"
  }
 },
 "nbformat": 4,
 "nbformat_minor": 5
}
